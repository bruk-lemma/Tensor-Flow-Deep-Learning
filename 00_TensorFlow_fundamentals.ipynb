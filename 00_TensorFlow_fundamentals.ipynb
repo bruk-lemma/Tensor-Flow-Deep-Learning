{
  "nbformat": 4,
  "nbformat_minor": 0,
  "metadata": {
    "colab": {
      "name": "00_TensorFlow_fundamentals.ipynb",
      "provenance": [],
      "authorship_tag": "ABX9TyOWnO9ZVVFb9cbTtxCt610C"
    },
    "kernelspec": {
      "name": "python3",
      "display_name": "Python 3"
    },
    "language_info": {
      "name": "python"
    }
  },
  "cells": [
    {
      "cell_type": "code",
      "execution_count": 6,
      "metadata": {
        "colab": {
          "base_uri": "https://localhost:8080/"
        },
        "id": "O-TfeGFUkO7f",
        "outputId": "53e9ac41-b068-471a-bdaa-280e4992bac2"
      },
      "outputs": [
        {
          "output_type": "stream",
          "name": "stdout",
          "text": [
            "2.8.2\n"
          ]
        },
        {
          "output_type": "execute_result",
          "data": {
            "text/plain": [
              "<tf.Tensor: shape=(), dtype=int32, numpy=8>"
            ]
          },
          "metadata": {},
          "execution_count": 6
        }
      ],
      "source": [
        "#create a tensor with tf.constant\n",
        "import tensorflow as tf;\n",
        "print(tf.__version__)\n",
        "scalar=tf.constant(8)\n",
        "scalar\n",
        "\n"
      ]
    },
    {
      "cell_type": "markdown",
      "source": [
        ""
      ],
      "metadata": {
        "id": "TMzXYPTfEHMd"
      }
    }
  ]
}